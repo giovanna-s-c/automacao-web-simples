{
 "cells": [
  {
   "cell_type": "code",
   "execution_count": 1,
   "id": "5418cb47",
   "metadata": {},
   "outputs": [],
   "source": [
    "#importar as bibliotecas\n",
    "from selenium import webdriver\n",
    "from webdriver_manager.chrome import ChromeDriverManager\n",
    "from selenium.webdriver.chrome.service import Service as ChromeService\n",
    "\n",
    "driver = webdriver.Chrome(service=ChromeService(ChromeDriverManager().install()))"
   ]
  },
  {
   "cell_type": "code",
   "execution_count": 2,
   "id": "0d95d0f3",
   "metadata": {},
   "outputs": [],
   "source": [
    "#abrir o navegador\n",
    "\n",
    "driver.get(\"https://www.yamaha-motor.com.br/login\")"
   ]
  },
  {
   "cell_type": "code",
   "execution_count": 3,
   "id": "978182f5",
   "metadata": {},
   "outputs": [],
   "source": [
    "import time\n",
    "time.sleep(3)"
   ]
  },
  {
   "cell_type": "code",
   "execution_count": 4,
   "id": "dd08fe3c",
   "metadata": {},
   "outputs": [],
   "source": [
    "#preencher email\n",
    "\n",
    "driver.find_element('xpath','//*[@id=\"CC-userRegistration-emailAddress\"]').send_keys(\"lanhouseever@gmail.com\")"
   ]
  },
  {
   "cell_type": "code",
   "execution_count": 5,
   "id": "a55191fc",
   "metadata": {},
   "outputs": [],
   "source": [
    "#preencher senha\n",
    "\n",
    "driver.find_element('xpath','//*[@id=\"CC-userRegistration-password\"]').send_keys(\"12345\")"
   ]
  },
  {
   "cell_type": "code",
   "execution_count": 8,
   "id": "0bf6666f",
   "metadata": {},
   "outputs": [],
   "source": [
    "time.sleep(3)"
   ]
  },
  {
   "cell_type": "code",
   "execution_count": 7,
   "id": "56bed26d",
   "metadata": {},
   "outputs": [
    {
     "ename": "ElementClickInterceptedException",
     "evalue": "Message: element click intercepted: Element <div class=\"controls col-md-12\">...</div> is not clickable at point (254, 487). Other element would receive the click: <span id=\"cookieconsent:desc\" class=\"cc-message\" style=\"margin: 0px;\">...</span>\n  (Session info: chrome=115.0.5790.171)\nStacktrace:\nBacktrace:\n\tGetHandleVerifier [0x00B52B63+47795]\n\t(No symbol) [0x00AE67E1]\n\t(No symbol) [0x009EC7ED]\n\t(No symbol) [0x00A1DF96]\n\t(No symbol) [0x00A1CC09]\n\t(No symbol) [0x00A1B3DB]\n\t(No symbol) [0x00A1A835]\n\t(No symbol) [0x00A13130]\n\t(No symbol) [0x00A34CCC]\n\t(No symbol) [0x00A12BC6]\n\t(No symbol) [0x00A35024]\n\t(No symbol) [0x00A471DA]\n\t(No symbol) [0x00A34AC6]\n\t(No symbol) [0x00A113D7]\n\t(No symbol) [0x00A1255D]\n\tGetHandleVerifier [0x00DA6F89+2490073]\n\tGetHandleVerifier [0x00DEC361+2773681]\n\tGetHandleVerifier [0x00DE6211+2748769]\n\tGetHandleVerifier [0x00BD16B0+566784]\n\t(No symbol) [0x00AF019A]\n\t(No symbol) [0x00AEC418]\n\t(No symbol) [0x00AEC4FB]\n\t(No symbol) [0x00ADF317]\n\tBaseThreadInitThunk [0x75C100C9+25]\n\tRtlGetAppContainerNamedObjectPath [0x779E7B1E+286]\n\tRtlGetAppContainerNamedObjectPath [0x779E7AEE+238]\n",
     "output_type": "error",
     "traceback": [
      "\u001b[1;31m---------------------------------------------------------------------------\u001b[0m",
      "\u001b[1;31mElementClickInterceptedException\u001b[0m          Traceback (most recent call last)",
      "Cell \u001b[1;32mIn[7], line 3\u001b[0m\n\u001b[0;32m      1\u001b[0m \u001b[38;5;66;03m#clicar em acessar\u001b[39;00m\n\u001b[1;32m----> 3\u001b[0m \u001b[43mdriver\u001b[49m\u001b[38;5;241;43m.\u001b[39;49m\u001b[43mfind_element\u001b[49m\u001b[43m(\u001b[49m\u001b[38;5;124;43m'\u001b[39;49m\u001b[38;5;124;43mxpath\u001b[39;49m\u001b[38;5;124;43m'\u001b[39;49m\u001b[43m,\u001b[49m\u001b[38;5;124;43m'\u001b[39;49m\u001b[38;5;124;43m//*[@id=\u001b[39;49m\u001b[38;5;124;43m\"\u001b[39;49m\u001b[38;5;124;43mCC-userRegistration\u001b[39;49m\u001b[38;5;124;43m\"\u001b[39;49m\u001b[38;5;124;43m]/div[2]/div[7]/div\u001b[39;49m\u001b[38;5;124;43m'\u001b[39;49m\u001b[43m)\u001b[49m\u001b[38;5;241;43m.\u001b[39;49m\u001b[43mclick\u001b[49m\u001b[43m(\u001b[49m\u001b[43m)\u001b[49m\n",
      "File \u001b[1;32m~\\anaconda3\\lib\\site-packages\\selenium\\webdriver\\remote\\webelement.py:94\u001b[0m, in \u001b[0;36mWebElement.click\u001b[1;34m(self)\u001b[0m\n\u001b[0;32m     92\u001b[0m \u001b[38;5;28;01mdef\u001b[39;00m \u001b[38;5;21mclick\u001b[39m(\u001b[38;5;28mself\u001b[39m) \u001b[38;5;241m-\u001b[39m\u001b[38;5;241m>\u001b[39m \u001b[38;5;28;01mNone\u001b[39;00m:\n\u001b[0;32m     93\u001b[0m     \u001b[38;5;124;03m\"\"\"Clicks the element.\"\"\"\u001b[39;00m\n\u001b[1;32m---> 94\u001b[0m     \u001b[38;5;28;43mself\u001b[39;49m\u001b[38;5;241;43m.\u001b[39;49m\u001b[43m_execute\u001b[49m\u001b[43m(\u001b[49m\u001b[43mCommand\u001b[49m\u001b[38;5;241;43m.\u001b[39;49m\u001b[43mCLICK_ELEMENT\u001b[49m\u001b[43m)\u001b[49m\n",
      "File \u001b[1;32m~\\anaconda3\\lib\\site-packages\\selenium\\webdriver\\remote\\webelement.py:395\u001b[0m, in \u001b[0;36mWebElement._execute\u001b[1;34m(self, command, params)\u001b[0m\n\u001b[0;32m    393\u001b[0m     params \u001b[38;5;241m=\u001b[39m {}\n\u001b[0;32m    394\u001b[0m params[\u001b[38;5;124m\"\u001b[39m\u001b[38;5;124mid\u001b[39m\u001b[38;5;124m\"\u001b[39m] \u001b[38;5;241m=\u001b[39m \u001b[38;5;28mself\u001b[39m\u001b[38;5;241m.\u001b[39m_id\n\u001b[1;32m--> 395\u001b[0m \u001b[38;5;28;01mreturn\u001b[39;00m \u001b[38;5;28;43mself\u001b[39;49m\u001b[38;5;241;43m.\u001b[39;49m\u001b[43m_parent\u001b[49m\u001b[38;5;241;43m.\u001b[39;49m\u001b[43mexecute\u001b[49m\u001b[43m(\u001b[49m\u001b[43mcommand\u001b[49m\u001b[43m,\u001b[49m\u001b[43m \u001b[49m\u001b[43mparams\u001b[49m\u001b[43m)\u001b[49m\n",
      "File \u001b[1;32m~\\anaconda3\\lib\\site-packages\\selenium\\webdriver\\remote\\webdriver.py:345\u001b[0m, in \u001b[0;36mWebDriver.execute\u001b[1;34m(self, driver_command, params)\u001b[0m\n\u001b[0;32m    343\u001b[0m response \u001b[38;5;241m=\u001b[39m \u001b[38;5;28mself\u001b[39m\u001b[38;5;241m.\u001b[39mcommand_executor\u001b[38;5;241m.\u001b[39mexecute(driver_command, params)\n\u001b[0;32m    344\u001b[0m \u001b[38;5;28;01mif\u001b[39;00m response:\n\u001b[1;32m--> 345\u001b[0m     \u001b[38;5;28;43mself\u001b[39;49m\u001b[38;5;241;43m.\u001b[39;49m\u001b[43merror_handler\u001b[49m\u001b[38;5;241;43m.\u001b[39;49m\u001b[43mcheck_response\u001b[49m\u001b[43m(\u001b[49m\u001b[43mresponse\u001b[49m\u001b[43m)\u001b[49m\n\u001b[0;32m    346\u001b[0m     response[\u001b[38;5;124m\"\u001b[39m\u001b[38;5;124mvalue\u001b[39m\u001b[38;5;124m\"\u001b[39m] \u001b[38;5;241m=\u001b[39m \u001b[38;5;28mself\u001b[39m\u001b[38;5;241m.\u001b[39m_unwrap_value(response\u001b[38;5;241m.\u001b[39mget(\u001b[38;5;124m\"\u001b[39m\u001b[38;5;124mvalue\u001b[39m\u001b[38;5;124m\"\u001b[39m, \u001b[38;5;28;01mNone\u001b[39;00m))\n\u001b[0;32m    347\u001b[0m     \u001b[38;5;28;01mreturn\u001b[39;00m response\n",
      "File \u001b[1;32m~\\anaconda3\\lib\\site-packages\\selenium\\webdriver\\remote\\errorhandler.py:229\u001b[0m, in \u001b[0;36mErrorHandler.check_response\u001b[1;34m(self, response)\u001b[0m\n\u001b[0;32m    227\u001b[0m         alert_text \u001b[38;5;241m=\u001b[39m value[\u001b[38;5;124m\"\u001b[39m\u001b[38;5;124malert\u001b[39m\u001b[38;5;124m\"\u001b[39m]\u001b[38;5;241m.\u001b[39mget(\u001b[38;5;124m\"\u001b[39m\u001b[38;5;124mtext\u001b[39m\u001b[38;5;124m\"\u001b[39m)\n\u001b[0;32m    228\u001b[0m     \u001b[38;5;28;01mraise\u001b[39;00m exception_class(message, screen, stacktrace, alert_text)  \u001b[38;5;66;03m# type: ignore[call-arg]  # mypy is not smart enough here\u001b[39;00m\n\u001b[1;32m--> 229\u001b[0m \u001b[38;5;28;01mraise\u001b[39;00m exception_class(message, screen, stacktrace)\n",
      "\u001b[1;31mElementClickInterceptedException\u001b[0m: Message: element click intercepted: Element <div class=\"controls col-md-12\">...</div> is not clickable at point (254, 487). Other element would receive the click: <span id=\"cookieconsent:desc\" class=\"cc-message\" style=\"margin: 0px;\">...</span>\n  (Session info: chrome=115.0.5790.171)\nStacktrace:\nBacktrace:\n\tGetHandleVerifier [0x00B52B63+47795]\n\t(No symbol) [0x00AE67E1]\n\t(No symbol) [0x009EC7ED]\n\t(No symbol) [0x00A1DF96]\n\t(No symbol) [0x00A1CC09]\n\t(No symbol) [0x00A1B3DB]\n\t(No symbol) [0x00A1A835]\n\t(No symbol) [0x00A13130]\n\t(No symbol) [0x00A34CCC]\n\t(No symbol) [0x00A12BC6]\n\t(No symbol) [0x00A35024]\n\t(No symbol) [0x00A471DA]\n\t(No symbol) [0x00A34AC6]\n\t(No symbol) [0x00A113D7]\n\t(No symbol) [0x00A1255D]\n\tGetHandleVerifier [0x00DA6F89+2490073]\n\tGetHandleVerifier [0x00DEC361+2773681]\n\tGetHandleVerifier [0x00DE6211+2748769]\n\tGetHandleVerifier [0x00BD16B0+566784]\n\t(No symbol) [0x00AF019A]\n\t(No symbol) [0x00AEC418]\n\t(No symbol) [0x00AEC4FB]\n\t(No symbol) [0x00ADF317]\n\tBaseThreadInitThunk [0x75C100C9+25]\n\tRtlGetAppContainerNamedObjectPath [0x779E7B1E+286]\n\tRtlGetAppContainerNamedObjectPath [0x779E7AEE+238]\n"
     ]
    }
   ],
   "source": [
    "#clicar em acessar\n",
    "\n",
    "driver.find_element('xpath','//*[@id=\"CC-userRegistration\"]/div[2]/div[7]/div').click()\n",
    "#from selenium.webdriver.common.by import By\n",
    "#element = driver.find_element(By.XPATH,'//*[@id=\"CC-userRegistration\"]/div[2]/div[7]/div')"
   ]
  },
  {
   "cell_type": "code",
   "execution_count": null,
   "id": "f0d6e845",
   "metadata": {},
   "outputs": [],
   "source": []
  }
 ],
 "metadata": {
  "kernelspec": {
   "display_name": "Python 3 (ipykernel)",
   "language": "python",
   "name": "python3"
  },
  "language_info": {
   "codemirror_mode": {
    "name": "ipython",
    "version": 3
   },
   "file_extension": ".py",
   "mimetype": "text/x-python",
   "name": "python",
   "nbconvert_exporter": "python",
   "pygments_lexer": "ipython3",
   "version": "3.10.9"
  }
 },
 "nbformat": 4,
 "nbformat_minor": 5
}
